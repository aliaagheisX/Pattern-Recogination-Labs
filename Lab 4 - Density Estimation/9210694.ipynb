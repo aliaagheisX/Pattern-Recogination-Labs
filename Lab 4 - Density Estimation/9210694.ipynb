{
 "cells": [
  {
   "cell_type": "markdown",
   "metadata": {},
   "source": [
    "## Student Information\n",
    "\n",
    "Please enter the names and IDs of the two students below:\n",
    "\n",
    "1. **Name**: [Aliaa abdelazize ali abdallah gheis]  \n",
    "   **ID**: `9210694`\n"
   ]
  },
  {
   "cell_type": "markdown",
   "metadata": {},
   "source": [
    "## Students Instructions\n",
    "\n",
    "Welcome to this learning module! As you embark on this journey, please keep the following in mind:\n",
    "\n",
    "- Clearly state your personal information where indicated.\n",
    "- Read the requirment carefully and refer to your lecture to understand any unclear concepts.\n",
    "- Hints are provided to guide you in one of the right direction but all ways lead to Rome.\n",
    "- **Keep the answers of the Essay questions in code cells for more clarity.**\n",
    "\n",
    "Remember, adhering to these guidelines is crucial for your success and will help you maximize your learning experience.\n"
   ]
  },
  {
   "cell_type": "markdown",
   "metadata": {},
   "source": [
    "# Density Estimation Techniques\n",
    "In this lab, you will implement the density estimation techniques we studied in the lecture. \n",
    "\n",
    "## About the Lab\n",
    "This lab consists of one requirement: [Requirement 1](#Requirement-1) where you implement one of the density estimation methods.\n",
    "\n",
    "- Refer to the slides whenever you need an equation or a formula. \n",
    "- In this lab, you are free to choose your bump function. However, higher accuracies will get a higher grade. <br/>**You will need to justify your choice of that bump function, write that in your own words, do not copy from your colleagues**\n",
    "- Feel free to use code from Lab 2. "
   ]
  },
  {
   "attachments": {},
   "cell_type": "markdown",
   "metadata": {},
   "source": [
    "------------------\n",
    "## Density Estimation\n",
    "\n",
    "### Recap\n",
    "\n",
    "In the previous lab, we were introduced to the problem of classification of multivariate data, and we applied Bayes classifier to classify these points. \n",
    "\n",
    "The Bayes classification rule depends mainly on the class-conditional probability (also known as the class density or class distribution). An accurate method to calculate this distribution is crucial for improving the performance of the classifier. \n",
    "\n",
    "We built our classifier based on the assumption that this data is multivariate Gaussian random distribution, and we estimated the mean and covariance of this distribution. Finally, a test vector x is classified as (i.e. assigned) the class that maximizes the posterior probability:\n",
    "\n",
    "$P(C_i|x_{test}) = \\frac{P(x_{test}|C_i) * P(C_i)}{P(x_{test})}$\n",
    "\n",
    "Classification of $x_{test}$ = $argmax_{i} P\\big(C_i|x_{test}\\big)$ = $argmax_{i} P(x|C_i) * P(C_i)$\n",
    "\n",
    "* $P(C_i|x_{test})$: Posterior probability\n",
    "* $P(x|C_i)$: Class-conditional probability (or distribution)\n",
    "* $P(C_i)$: Class apriori probability\n",
    "                \n",
    "**Note that** $P(C_i|x_{test}) \\neq P(x_{test}|C_i) * P(C_i)$. Instead,  $P(C_i|x_{test}) = \\frac{P(x_{test}|C_i) * P(C_i)}{P(x_{test})}$. However, when we compare multiple classes, the denominator $P(x_{test})$ is independent of the class $i$ and can be regarded as normalizing factor.\n",
    "\n",
    "\n",
    "Where $P(x|C_i)$ is given by the multivariate Gaussian random distribution:\n",
    "\n",
    "$P(x|C_i) = \\mathcal{N}(x; \\mu_i, \\Sigma_i) = \\frac{1}{(2\\pi)^{\\frac{N}{2}}|\\Sigma_i|^{\\frac{1}{2}}} exp\\big(\\frac{-1}{2}(x-\\mu_i)^T\\Sigma^{-1}_{i}(x-\\mu_i)\\big)$\n",
    "\n",
    "\n",
    " ### In this lab\n",
    "We will drop off the assumption that $P(x|C_i)$ is drawn out of a Gaussian distribution with mean $\\mu$ and covariance $\\Sigma$. The distribution is not necessarily Gaussian, yet we will still apply Bayes classifier to classify between data points by assigning each point to the class that maximizes its posterior probability as usual.\n",
    "\n",
    "#### What will change in Bayes classifier under the new assumption?\n",
    "We will answer that for you! $P(x|C_i)$ is no longer equal to the Gaussian distribution as shown\n",
    "in the previous equation i.e. we can’t use the Gaussian formula to substitute for $P(x|C_i)$.\n",
    "\n",
    "#### How will we figure out the unknown distribution (also known as likelihood function)?\n",
    "We will answer that for you too! There are three ways for doing so:\n",
    "\n",
    "    1. Histogram Analysis.\n",
    "    2. Naïve Estimator.\n",
    "    3. Parzen Window Density Estimator.\n",
    "    \n",
    "All these techniques aim to estimate a density function $P(x|C_i)$ for the training points, and hence you can use the density function to apply Bayes classifier and classify your test points.\n",
    "*Refer to the slides to get a brief about these techniques.*"
   ]
  },
  {
   "cell_type": "markdown",
   "metadata": {},
   "source": [
    "## Requirement 1\n",
    "\n",
    "You are given files **data.csv**, **test_data.csv**, and  **test_data_true.csv**. \n",
    "\n",
    "**The first file** contains a list of one-dimensional data points and their corresponding classes. The data points were drawn of the\n",
    " distribution shown in Figure 1 (NOTE: It will be your task to estimate this distribution).\n",
    " \n",
    "![expected_output.png](expected_output.png)\n",
    "\n",
    "As shown in Figure 1, the points belonging to class 1 were drawn out of the distribution in blue,\n",
    "whereas the points belonging to class 2 were drawn out of the distribution in red.\n",
    "\n",
    "After applying Parzen Window Density Estimator and plotting the estimated distribution for\n",
    "both classes, you should observe a similar distribution for each class to the corresponding\n",
    "distribution shown in Figure 1.\n",
    "\n",
    "The format of data files is shown in the following table:\n",
    "\n",
    "||Class|Value|\n",
    "|-|-|-|\n",
    "|Point#1| 1| 5.34|\n",
    "|Point#2| 2| 2.73|\n",
    "|Point#3| 2| -1.832|\n",
    "\n",
    "**The second file** contains test points without the associated classes. \n",
    "\n",
    "The true values for test\n",
    "points are found in *test_data_true.csv*."
   ]
  },
  {
   "cell_type": "code",
   "execution_count": 2,
   "metadata": {},
   "outputs": [],
   "source": [
    "import numpy as np\n",
    "import matplotlib.pyplot as plt\n",
    "import csv\n",
    "import pandas as pd"
   ]
  },
  {
   "cell_type": "markdown",
   "metadata": {},
   "source": [
    "**The first step** is to read and import the training data, test data and the true values for the test data,\n",
    "found in the given files respectively."
   ]
  },
  {
   "cell_type": "code",
   "execution_count": 3,
   "metadata": {},
   "outputs": [],
   "source": [
    "def read_data():\n",
    "    # TODO 1: Read the file 'data.csv' into the variable data.\n",
    "    #        Convert the matrix data into numpy array and make sure that the values in data is float and not strings.\n",
    "    # Hint: You already implemented it in Lab 3.\n",
    "    # Hint: use data = np.asarray(data)\n",
    "    # Note: data contains both the training data together with labelled classes.\n",
    "    data = pd.read_csv('./data.csv', header=None)\n",
    "    data = np.asarray(data)\n",
    "    \n",
    "    return data"
   ]
  },
  {
   "cell_type": "code",
   "execution_count": 4,
   "metadata": {},
   "outputs": [],
   "source": [
    "def read_test_data():\n",
    "    # TODO 2: Read the file 'test_data.csv' and 'test_data_true.csv' into the variables test_data and test_data_true.\n",
    "    #         Convert the matrix data into numpy arrays and make sure that the values in data is float and not strings.\n",
    "    # Hint: You already implemented it in Lab 3.\n",
    "    # Note: test_data contains the unlabelled test class.\n",
    "    # Note: test_data_true contains the actual classes of the test instances, which you will compare\n",
    "    #       against your predicted classes.\n",
    "    test_data = np.asarray(pd.read_csv('./test_data.csv', header=None))\n",
    "    test_data_true = np.asarray(pd.read_csv('./test_data_true.csv', header=None))\n",
    "    return test_data, test_data_true"
   ]
  },
  {
   "cell_type": "code",
   "execution_count": 10,
   "metadata": {},
   "outputs": [],
   "source": [
    "data = read_data()\n",
    "test_data, test_data_true = read_test_data()"
   ]
  },
  {
   "cell_type": "markdown",
   "metadata": {},
   "source": [
    "**The second step** is to choose a suitable bump function (Parzen window), and find the optimal value of `h`\n",
    "for the bump function for each class.\n",
    "\n",
    "First, fill in the function `calculate_h_optimal()`. Pass the convenient parameters."
   ]
  },
  {
   "cell_type": "markdown",
   "metadata": {},
   "source": [
    "foreach feature __i__ we calculate __Hi__ (optimal bandwidth for ith feature) \\\n",
    "### (in slides)\n",
    "\n",
    "$$H_i = \\sigma_i (\\frac{4}{(N+2)M})^{\\frac{1}{N+4}} \\\\\n",
    "N = \\text{Number of Features} \\\\\n",
    "M = \\text{Number of Samples} \\\\\n",
    "\\sigma_i = \\text{estimated std of feature} \\\\\n",
    "$$\n",
    "if bumb function have only one possible BW we could take average or expectation of $H_i$ to use it\n",
    "$$ h_\\text{optimal in slides} = \\frac{1}{N}\\Sigma_i H_i$$\n",
    "since we have one feature we can conculde that \n",
    "$h_\\text{optimal} = H$\n",
    "\n"
   ]
  },
  {
   "cell_type": "markdown",
   "metadata": {},
   "source": [
    "### (silverman)\n",
    "> If Gaussian basis functions are used to approximate univariate data, and the underlying density being estimated is Gaussian, the optimal choice for h (that is, the bandwidth that minimises the mean integrated squared error) \n",
    "$$h = 1.06 \\hat{\\sigma} M^{-\\frac{1}{5}}$$\n",
    "\n",
    "> An ``h`` value is considered more robust when it improves the fit for long-tailed and skewed distributions or for bimodal mixture distributions. This is often done empirically by replacing the standard deviation \n",
    "**Our case**\n",
    "\n",
    "$$\n",
    "A = min(\\hat{\\sigma}, \\frac{\\text{IQR}}{1.34}) \\\\\n",
    "\\text{}\n",
    "\\\\\n",
    "h = 0.9 A * M^{-\\frac{1}{5}}\n",
    "$$\n",
    "\n",
    "source wikipedia:\n",
    "https://en.wikipedia.org/wiki/Kernel_density_estimation#:~:text=The%20Epanechnikov%20kernel%20is%20optimal,the%20standard%20normal%20density%20function."
   ]
  },
  {
   "cell_type": "code",
   "execution_count": 388,
   "metadata": {},
   "outputs": [],
   "source": [
    "# Note: Pass the suitable parameters\n",
    "def calculate_h_optimal(std, N, M):\n",
    "    # TODO 3: Calculate the optimal value for the bandwidth (h) of Parzen window (or the bump function you are going\n",
    "    #  to compute). Pass the suitable parameters. \n",
    "    # Hint: Refer to the slides to find out the equation of computing h optimal and know which parameters you should pass.\n",
    "    h = std * (4 / (M * (N+2))) ** (1 / (N+4))\n",
    "    return h\n",
    "def calculate_h_optimal_guass(std, IQR, M):\n",
    "    A = min(std, IQR/1.34)\n",
    "    h = 0.9 * A *( M ** (-1/5))\n",
    "    return h"
   ]
  },
  {
   "cell_type": "markdown",
   "metadata": {},
   "source": [
    "Second, implement the bump function (i.e. Parzen window). You should compute\n",
    "the bump function for any x, given a point p and an optimal value for h.\n",
    "\n",
    "Y = F(x), where x represents the domain of the function or equivalently some\n",
    "values to compute the bump function at, y represents the output of the bump\n",
    "function and F represents the bump function.\n",
    "\n",
    "**Notes:** You should vectorise this (i.e. your function should work if x were a single data point or a vector of M data points).\n"
   ]
  },
  {
   "cell_type": "markdown",
   "metadata": {},
   "source": [
    "I use on this lab __Guassian Bumb Function__, __Epanechnikov__ \\\n",
    "note: Epanechnikov should be optimal on MSE\n",
    "$$\n",
    "\\hat{P}(\\vec{X}) = \\frac{1}{M . h^N} \\Sigma_\\text{m=1}^M g(\\frac{\\vec{X} - \\vec{X_m}}{h}) \\\\\n",
    "\\\\\n",
    "\\text{}\n",
    "\\\\\n",
    "\n",
    "\\int_{-\\infty}^{\\infty} g(\\vec{X}) d\\vec{X} = 1\n",
    "\\\\\n",
    "\\text{}\n",
    "\\\\\n",
    "g_\\text{guassian}(\\vec{X}) = \\frac{1}{(\\sqrt{2\\pi})^N}e^{-\\frac{1}{2}\\Sigma_\\text{i=1}^N x_i^2}\n",
    "\\\\\n",
    "\\text{}\n",
    "\\\\\n",
    "g_\\text{Epanechnikov}(X) = \\frac{3}{4} (1 - X^2), |X| \\leq 1\n",
    "$$"
   ]
  },
  {
   "cell_type": "code",
   "execution_count": 389,
   "metadata": {},
   "outputs": [],
   "source": [
    "def prepare_vec_x_at_point(points, x, h):\n",
    "    # points_dim = K,1\n",
    "    x = np.asarray(np.copy(x))\n",
    "    # sadly way to try to vectorize it I think won't working with more than 1D features\n",
    "    if type(points) == np.ndarray:\n",
    "        points = np.asarray(np.copy(points))\n",
    "        n_points = points.shape[0]\n",
    "        n_samples = x.shape[1]\n",
    "        points = np.tile(points, (1, n_samples))\n",
    "        x = np.tile(x, (n_points, 1))\n",
    "    \n",
    "    x = x - points\n",
    "    x /= h\n",
    "    \n",
    "    return x"
   ]
  },
  {
   "cell_type": "code",
   "execution_count": 390,
   "metadata": {},
   "outputs": [],
   "source": [
    "\n",
    "\n",
    "def bump_function_guassian_multivariant(points, x, h, N = 1):\n",
    "    \"\"\" this implementation of guassian multidimensional bump function\"\"\"\n",
    "    # TODO 4: Implement the bump function phi(x) at point p with bandwidth h. Note that x can be a scalar or a vector.\n",
    "    # NOTE: Your solution should be vectorized.\n",
    "    \n",
    "    x = prepare_vec_x_at_point(points, x, h)\n",
    "    if N > 1:\n",
    "        f = np.exp(-0.5 * (x ** 2).sum(axis=0)) / ((2 * np.pi)**(N/2))\n",
    "    else:\n",
    "        f = np.exp(-0.5 * (x ** 2)) / ((2 * np.pi)**(0.5)) \n",
    "    return f\n",
    "\n",
    "def bump_function_uniform(point, x, h):\n",
    "    \"\"\" \n",
    "    this implementation of uniform multidimensional bump function (Naiive estimator)\n",
    "    since I have a look on expected results I know for sure its gone perform bad so I won't implement it\n",
    "    \"\"\"\n",
    "    pass\n",
    "\n",
    "def bump_function_epanechnikov(points, x, h):\n",
    "    \"\"\"\n",
    "    IDK why they decided to call it this name ><\n",
    "    I am more lazy to write multivariant form and since N=1 I will just write the 1D form\n",
    "    \"\"\"\n",
    "    \n",
    "    x = prepare_vec_x_at_point(points, x, h)\n",
    "    \n",
    "    f = 0.75 * (1 - x**2) * (np.abs(x) < h)\n",
    "    return f"
   ]
  },
  {
   "cell_type": "markdown",
   "metadata": {},
   "source": [
    "**Question 1** What are the criteria of choosing bump function?"
   ]
  },
  {
   "cell_type": "code",
   "execution_count": 391,
   "metadata": {},
   "outputs": [
    {
     "data": {
      "text/plain": [
       "'\\n    Your Answer:\\n    - should be integerted over the entire space = 1 so that \"\"Sum for all x values P(X) = 1\"\"\\n    - should be symmetric\\n    - should be equal to 0 at infinity or negative infinity\\n    - better to have higher weight at point close to p and lower weight at points far from p\\n'"
      ]
     },
     "execution_count": 391,
     "metadata": {},
     "output_type": "execute_result"
    }
   ],
   "source": [
    "'''\n",
    "    Your Answer:\n",
    "    - should be integerted over the entire space = 1 so that \"\"Sum for all x values P(X) = 1\"\"\n",
    "    - should be symmetric\n",
    "    - should be equal to 0 at infinity or negative infinity\n",
    "    - better to have higher weight at point close to p and lower weight at points far from p\n",
    "'''"
   ]
  },
  {
   "cell_type": "markdown",
   "metadata": {},
   "source": [
    "**Question 2** Justify why you choose that as your bump function. Do you expect it to enhance accuracy? Why? \n",
    "\n",
    "Write everything you would like to say"
   ]
  },
  {
   "cell_type": "code",
   "execution_count": 407,
   "metadata": {},
   "outputs": [
    {
     "data": {
      "text/plain": [
       "'\\n    Your Answer:\\n    - from the expected results it could be easy to see that the guassian kernel is the best one\\n        - eg: for first class => it easily can be composed by two guassian distributions\\n        - and it was mentioned in silverman rule of thumb for optimal h that guassian kernel is the best one for this kind of data\\n    + I try Epanechnikov kernel for fun and it was bad\\n    **Best accuracy: ** guassian with silverman rule of thumb \\n'"
      ]
     },
     "execution_count": 407,
     "metadata": {},
     "output_type": "execute_result"
    }
   ],
   "source": [
    "'''\n",
    "    Your Answer:\n",
    "    - from the expected results it could be easy to see that the guassian kernel is the best one\n",
    "        - eg: for first class => it easily can be composed by two guassian distributions\n",
    "        - and it was mentioned in silverman rule of thumb for optimal h that guassian kernel is the best one for this kind of data\n",
    "    + I try Epanechnikov kernel for fun and it was bad\n",
    "    **Best accuracy: ** guassian with silverman rule of thumb = 91.333%\n",
    "'''"
   ]
  },
  {
   "cell_type": "markdown",
   "metadata": {},
   "source": [
    "**At this point,** you need to iterate over the training points and apply the bump\n",
    "function for every training point.\\\n",
    "The density estimate will be the accumulation (i.e. the sum) of the output of these bump functions.\n",
    "\n",
    "We first need to generate the x vector which represents the possible values for the one\n",
    "dimensional feature we have. You can find the minimum and maximum possible values for x among the training data, and generate a range of points which will represent your one-dimensional axis.\n",
    "\n",
    "                            x = np.linspace(min_x, max_x, number_of_axis_points)\n",
    "                            \n",
    "Here, `min_x` represents the minimum value for the feature x, `max_x` represents the\n",
    "maximum value for the feature x, and `number_of_axis_points` represents the\n",
    "resolution of the scale (or how many points should be included between these two\n",
    "limits)."
   ]
  },
  {
   "cell_type": "code",
   "execution_count": 393,
   "metadata": {},
   "outputs": [
    {
     "name": "stdout",
     "output_type": "stream",
     "text": [
      "(1, 2500)\n",
      "(1, 2500)\n",
      "(1, 1000)\n",
      "(1, 1500)\n",
      "1 2500 1000 1500\n"
     ]
    }
   ],
   "source": [
    "data_val = data[:, 1].reshape(1, -1)\n",
    "data_c = data[:, 0].reshape(1, -1)\n",
    "data_val_c1 = data_val[data_c == 1].reshape(1, -1)\n",
    "data_val_c2 = data_val[data_c == 2].reshape(1, -1)\n",
    "N = data_val.shape[0]\n",
    "M = data_val.shape[1]\n",
    "M_c1 = data_val_c1.shape[1]\n",
    "M_c2 = data_val_c2.shape[1]\n",
    "\n",
    "print(data_val.shape)\n",
    "print(data_c.shape)\n",
    "print(data_val_c1.shape)\n",
    "print(data_val_c2.shape)\n",
    "print(N, M, M_c1, M_c2)"
   ]
  },
  {
   "cell_type": "code",
   "execution_count": 394,
   "metadata": {},
   "outputs": [],
   "source": [
    "# TODO 5: Construct x-axis that will be used in density estimation.\n",
    "\n",
    "min_x = -10 #np.min(data_val) => should be like that but for sake of visualization and compare between expected results and actual results\n",
    "max_x = np.max(data_val)\n",
    "number_of_axis_points = 10000\n",
    "\n",
    "x = np.linspace(min_x, max_x, number_of_axis_points).reshape(-1, 1)\n"
   ]
  },
  {
   "cell_type": "markdown",
   "metadata": {},
   "source": [
    "Now we need to compute the desnsities for each class. Remember that the density estimate represents `P(x|Ci)`\n",
    "\n",
    "We start by computing h_optimal for each class we have:"
   ]
  },
  {
   "cell_type": "code",
   "execution_count": 395,
   "metadata": {},
   "outputs": [
    {
     "data": {
      "text/plain": [
       "(0.919104761156659, 1.3969632469283293, 0.780943793921717, 0.9612448275933541)"
      ]
     },
     "execution_count": 395,
     "metadata": {},
     "output_type": "execute_result"
    }
   ],
   "source": [
    "# TODO 6: Calculate the optimal h for each class. \n",
    "# (Warning: Do not use for loops. Use vectorization, broadcasting and masking).\n",
    "h1 = calculate_h_optimal(np.std(data_val_c1), N, M_c1)\n",
    "h2 = calculate_h_optimal(np.std(data_val_c2), N, M_c2)\n",
    "\n",
    "IQR_c1 = np.percentile(data_val_c1, 75) - np.percentile(data_val_c1, 25)\n",
    "IQR_c2 = np.percentile(data_val_c2, 75) - np.percentile(data_val_c2, 25)\n",
    "h1_guass = calculate_h_optimal_guass(np.std(data_val_c1), IQR_c1, M_c1)\n",
    "h2_guass = calculate_h_optimal_guass(np.std(data_val_c2), IQR_c2, M_c2)\n",
    "h1, h2, h1_guass, h2_guass"
   ]
  },
  {
   "cell_type": "markdown",
   "metadata": {},
   "source": [
    "We then use these h_optimals to calculate the density functions:"
   ]
  },
  {
   "cell_type": "markdown",
   "metadata": {},
   "source": [
    "$$\\hat{P}(\\vec{X}) = \\frac{1}{M . h^N} \\Sigma_\\text{m=1}^M g(\\frac{\\vec{X} - \\vec{X_m}}{h}) \\\\\n",
    "$$"
   ]
  },
  {
   "cell_type": "code",
   "execution_count": 399,
   "metadata": {},
   "outputs": [],
   "source": [
    "# TODO 7: Calculate the probability density function p(x|C1) and p(x|C2) for each value on the constructed x-axis\n",
    "pxgivenC1_guass = np.sum(bump_function_guassian_multivariant(  x, data_val_c1  , h1), axis=1) / M_c1 / h1  # class 1\n",
    "pxgivenC2_guass = np.sum(bump_function_guassian_multivariant(  x, data_val_c2  , h2), axis=1) / M_c2 / h2  # class 2\n",
    "\n",
    "pxgivenC1_guass_opt = np.sum(bump_function_guassian_multivariant(  x, data_val_c1  , h1_guass), axis=1) / M_c1 / h1_guass  # class 1\n",
    "pxgivenC2_guass_opt = np.sum(bump_function_guassian_multivariant(  x, data_val_c2  , h2_guass), axis=1) / M_c2 / h2_guass  # class 2\n",
    "\n",
    "pxgivenC1_epan = np.sum(bump_function_epanechnikov(  x, data_val_c1  , h1), axis=1) / M_c1 / h1  # class 1\n",
    "pxgivenC2_epan = np.sum(bump_function_epanechnikov(  x, data_val_c2  , h2), axis=1) / M_c2 / h2  # class 2"
   ]
  },
  {
   "cell_type": "markdown",
   "metadata": {},
   "source": [
    "Now we need to visualize how well are we estimating the densities.\\\n",
    "Let's plot the density estimates for the two classes that we computed in **ONE PLOT** with **DIFFERENT\n",
    "COLORS.** This is an ordinary plot.\n",
    "\n",
    "**Check your plot result**:\\\n",
    "Is it similar to Figure 1? If yes, proceed to question 5. If no, unfortunately you have\n",
    "done something wrong. Think: Do you need another bump function? Do you need more points? \n",
    "\n",
    "**FAQ:** What do you mean by two classes in one plot with different colors?\\\n",
    "Answer: The two classes are overlaid together in one plot (such as Figure 1) with\n",
    "different colors (red and blue). We can’t be any more specific :\")"
   ]
  },
  {
   "cell_type": "code",
   "execution_count": 400,
   "metadata": {},
   "outputs": [
    {
     "data": {
      "text/plain": [
       "Text(0.5, 1.0, 'Gaussian Bump Function Different h')"
      ]
     },
     "execution_count": 400,
     "metadata": {},
     "output_type": "execute_result"
    },
    {
     "data": {
      "image/png": "[encoded data removed]",
      "text/plain": [
       "<Figure size 1500x500 with 2 Axes>"
      ]
     },
     "metadata": {},
     "output_type": "display_data"
    }
   ],
   "source": [
    "# plot the estimated densities\n",
    "# TODO 8: Plot the two densities P(x|C1) and P(x|C2) on the same plot. use plt.plot(..)\n",
    "plt.figure(figsize=(15, 5))\n",
    "plt.subplot(1, 2, 1)\n",
    "plt.plot(x, pxgivenC1_guass)\n",
    "plt.plot(x, pxgivenC2_guass )\n",
    "plt.legend(['P(x|C1)', 'P(x|C2)'])\n",
    "plt.title('Gaussian Bump Function')\n",
    "\n",
    "plt.subplot(1, 2, 2)\n",
    "plt.plot(x, pxgivenC1_guass_opt)\n",
    "plt.plot(x, pxgivenC2_guass_opt )\n",
    "plt.legend(['P(x|C1)', 'P(x|C2)'])\n",
    "plt.title('Gaussian Bump Function Different h')"
   ]
  },
  {
   "cell_type": "code",
   "execution_count": 401,
   "metadata": {},
   "outputs": [
    {
     "data": {
      "text/plain": [
       "Text(0.5, 1.0, 'Epanechinkov Bump Function')"
      ]
     },
     "execution_count": 401,
     "metadata": {},
     "output_type": "execute_result"
    },
    {
     "data": {
      "image/png": "[encoded data removed]",
      "text/plain": [
       "<Figure size 640x480 with 1 Axes>"
      ]
     },
     "metadata": {},
     "output_type": "display_data"
    }
   ],
   "source": [
    "\"\"\"\n",
    "I think I did something wrong with amplitude of the epanechinkov function\n",
    "But kda kda worse than guassian kernel\n",
    "as there's little bumbs in the middle of the graph => may be if I choose larger H would be better IDK\n",
    "\"\"\"\n",
    "plt.plot(x, pxgivenC1_epan)\n",
    "plt.plot(x, pxgivenC2_epan )\n",
    "plt.legend(['P(x|C1)', 'P(x|C2)'])\n",
    "plt.title('Epanechinkov Bump Function')"
   ]
  },
  {
   "cell_type": "markdown",
   "metadata": {},
   "source": [
    "It’s time to classify the test points. You know what to do already! Given the points in\n",
    "the test file, it’s required to classify each point whether it belongs to class 1 or 2 by\n",
    "applying Bayes classifier. Report the accuracy of your classifier by comparing with\n",
    "the true values found in the third file.\n",
    "\n",
    "Hint: It’s not as easy as it looks like, there’s a trick here. Be creative in your solution.\n",
    "Solutions may differ in this part, and this may lead to varying accuracies between\n",
    "students.\\\n",
    "*May the odds be in your favor and you get the highest accuracy!*"
   ]
  },
  {
   "cell_type": "code",
   "execution_count": 402,
   "metadata": {},
   "outputs": [],
   "source": [
    "# TODO 9: Calculate the aprior probabilities p(C1) and p(C2).\n",
    "pc1 = M_c1 / M\n",
    "pc2 = M_c2 / M"
   ]
  },
  {
   "cell_type": "code",
   "execution_count": 403,
   "metadata": {},
   "outputs": [],
   "source": [
    "#pxgivenC1# TODO 10: Calculate the posterior probabilities p(C1|x) and p(C2|x) for all values in x.\n",
    "\n",
    "pc1GivenX_guass = pxgivenC1_guass * pc1 \n",
    "pc2GivenX_guass = pxgivenC2_guass * pc2 \n",
    "\n",
    "pc1GivenX_guass_opt = pxgivenC1_guass_opt * pc1 \n",
    "pc2GivenX_guass_opt = pxgivenC2_guass_opt * pc2 \n",
    "\n",
    "pc1GivenX_epan = pxgivenC1_epan * pc1 \n",
    "pc2GivenX_epan = pxgivenC2_epan * pc2 "
   ]
  },
  {
   "cell_type": "code",
   "execution_count": 404,
   "metadata": {},
   "outputs": [],
   "source": [
    "def find_nearest(array, value):\n",
    "    '''\n",
    "    This function finds which element in array is equal to value. If not found, it returns the nearest (or closest)\n",
    "    element in the array to value.\n",
    "    :param array: An array of values to search in.\n",
    "    :param value: A value to select from the array.\n",
    "    :return: The index of the found element in the array. If not found, it returns the index of the closest element.\n",
    "    '''\n",
    "    ## DO NOT Change Code ##\n",
    "    array = np.asarray(array)\n",
    "    index = (np.abs(array - value)).argmin()\n",
    "    return index"
   ]
  },
  {
   "cell_type": "code",
   "execution_count": 405,
   "metadata": {},
   "outputs": [],
   "source": [
    "# TODO 11: Compute the accuracy of your classifier.\n",
    "accuracy_guass = 0.0\n",
    "accuracy_guass_opt = 0.0\n",
    "accuracy_epan = 0.0\n",
    "for idx, point in enumerate(test_data):\n",
    "    classification_g = 1 if pc1GivenX_guass[find_nearest(x, point)] > pc2GivenX_guass[find_nearest(x, point)] else 2\n",
    "    classification_g_o = 1 if pc1GivenX_guass_opt[find_nearest(x, point)] > pc2GivenX_guass_opt[find_nearest(x, point)] else 2\n",
    "    classification_e = 1 if pc1GivenX_epan[find_nearest(x, point)] > pc2GivenX_epan[find_nearest(x, point)] else 2\n",
    "    #print(\"for point:\", point, \"the classification: \", classification)\n",
    "    accuracy_guass += classification_g == test_data_true[idx]   \n",
    "    accuracy_guass_opt += classification_g_o == test_data_true[idx]   \n",
    "    accuracy_epan += classification_e == test_data_true[idx]   \n",
    "accuracy_guass /= test_data.shape[0]\n",
    "accuracy_guass_opt /= test_data.shape[0]\n",
    "accuracy_epan /= test_data.shape[0]\n"
   ]
  },
  {
   "cell_type": "code",
   "execution_count": 406,
   "metadata": {},
   "outputs": [
    {
     "name": "stdout",
     "output_type": "stream",
     "text": [
      "Accuracy =  [91.] %\n",
      "Accuracy =  [91.33333333] %\n",
      "Accuracy =  [91.] %\n"
     ]
    }
   ],
   "source": [
    "print(\"Accuracy Guassian with bw in slides= \", accuracy_guass * 100, \"%\")\n",
    "print(\"Accuracy Guassian with bw of silverman = \", accuracy_guass_opt * 100, \"%\")\n",
    "print(\"Accuracy Epan= \", accuracy_epan * 100, \"%\")"
   ]
  },
  {
   "cell_type": "markdown",
   "metadata": {},
   "source": [
    "## Submission Instructions\n",
    "\n",
    "To ensure a smooth evaluation process, please follow these steps for submitting your work:\n",
    "\n",
    "1. **Prepare Your Submission:** Alongside your main notebook, include any additional files that are necessary for running the notebook successfully. This might include data files, images, or supplementary scripts.\n",
    "\n",
    "2. **Rename Your Files:** Before submission, please rename your notebook to reflect the IDs of the two students working on this project. The format should be `ID1_ID2`, where `ID1` and `ID2` are the student IDs. For example, if the student IDs are `9123456` and `9876543`, then your notebook should be named `9123456_9876543.ipynb`.\n",
    "\n",
    "3. **Check for Completeness:** Ensure that all required tasks are completed and that the notebook runs from start to finish without errors. This step is crucial for a smooth evaluation.\n",
    "\n",
    "4. **Submit Your Work:** Once everything is in order, submit your notebook and any additional files via the designated submission link on Google Classroom. Make sure you meet the submission deadline to avoid any late penalties.\n",
    "\n",
    "By following these instructions carefully, you help us in evaluating your work efficiently and fairly. If you encounter any difficulties or have questions about the submission process, please reach out as soon as possible.\n",
    "\n",
    "We look forward to seeing your completed projects and wish you the best of luck!\n"
   ]
  },
  {
   "cell_type": "markdown",
   "metadata": {},
   "source": []
  },
  {
   "cell_type": "markdown",
   "metadata": {},
   "source": []
  },
  {
   "cell_type": "markdown",
   "metadata": {},
   "source": []
  }
 ],
 "metadata": {
  "kernelspec": {
   "display_name": "Python 3",
   "language": "python",
   "name": "python3"
  },
  "language_info": {
   "codemirror_mode": {
    "name": "ipython",
    "version": 3
   },
   "file_extension": ".py",
   "mimetype": "text/x-python",
   "name": "python",
   "nbconvert_exporter": "python",
   "pygments_lexer": "ipython3",
   "version": "3.12.2"
  }
 },
 "nbformat": 4,
 "nbformat_minor": 4
}
